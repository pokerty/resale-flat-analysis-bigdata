{
 "cells": [
  {
   "cell_type": "code",
   "execution_count": 31,
   "metadata": {},
   "outputs": [
    {
     "name": "stdout",
     "output_type": "stream",
     "text": [
      "Result for U2120866H:\n",
      "Minimum Area:  60.0\n",
      "Average Area:  108.26219512195122\n",
      "Stardard Deviation Area:  108.26219512195122\n",
      "Minimum Price:  232000.0\n",
      "Average Price:  397692.7012195122\n",
      "Stardard Deviation Price:  397692.7012195122\n"
     ]
    }
   ],
   "source": [
    "import pandas as pd\n",
    "\n",
    "def calculate_statistics(result):\n",
    "    \"\"\"Calculate minimum, average, and standard deviation of area and price.\"\"\"\n",
    "\n",
    "    # Calculate statistics\n",
    "    area_stats = result['floor_area_sqm'].describe()\n",
    "    price_stats = result['resale_price'].describe()\n",
    "\n",
    "    # Create a DataFrame from the statistics\n",
    "    print(\"Minimum Area: \", area_stats['min'])\n",
    "    print(\"Average Area: \", area_stats['mean'])\n",
    "    print(\"Stardard Deviation Area: \", area_stats['std'])\n",
    "    print(\"Minimum Price: \", price_stats['min'])\n",
    "    print(\"Average Price: \", price_stats['mean'])\n",
    "    print(\"Stardard Deviation Price: \", price_stats['std'])\n",
    "\n",
    "df = pd.read_csv('..//ResalePricesSingapore.csv')\n",
    "# Convert 'month' column to datetime type\n",
    "df['month'] = pd.to_datetime(df['month'])\n",
    "\n",
    "# Define conditions\n",
    "town_condition = df['town'] == 'WOODLANDS'\n",
    "month_condition = (df['month'] >= '2016-06') & (df['month'] < '2016-09')\n",
    "\n",
    "# Apply conditions\n",
    "result = df[town_condition & month_condition]\n",
    "\n",
    "print(\"Result for U2120866H:\")\n",
    "statistics_results = calculate_statistics(result)\n"
   ]
  },
  {
   "cell_type": "code",
   "execution_count": 32,
   "metadata": {},
   "outputs": [
    {
     "name": "stdout",
     "output_type": "stream",
     "text": [
      "Result for U2022097E:\n",
      "Minimum Area:  44.0\n",
      "Average Area:  83.97457627118644\n",
      "Stardard Deviation Area:  83.97457627118644\n",
      "Minimum Price:  220000.0\n",
      "Average Price:  409262.8940677966\n",
      "Stardard Deviation Price:  409262.8940677966\n"
     ]
    }
   ],
   "source": [
    "df = pd.read_csv('..//ResalePricesSingapore.csv')\n",
    "# Convert 'month' column to datetime type\n",
    "df ['month'] = pd.to_datetime(df['month'])\n",
    "\n",
    "# Define conditions\n",
    "town_condition = df['town'] == 'ANG MO KIO'\n",
    "month_condition = (df['month'] >= '2017-09') & (df['month'] < '2017-12')\n",
    "\n",
    "# Apply conditions\n",
    "result = df[town_condition & month_condition]\n",
    "\n",
    "print(\"Result for U2022097E:\")\n",
    "statistics_results = calculate_statistics(result)\n"
   ]
  },
  {
   "cell_type": "code",
   "execution_count": 33,
   "metadata": {},
   "outputs": [
    {
     "name": "stdout",
     "output_type": "stream",
     "text": [
      "Result for U2120937B:\n",
      "Minimum Area:  40.0\n",
      "Average Area:  89.88409703504043\n",
      "Stardard Deviation Area:  89.88409703504043\n",
      "Minimum Price:  218000.0\n",
      "Average Price:  349991.1913746631\n",
      "Stardard Deviation Price:  349991.1913746631\n"
     ]
    }
   ],
   "source": [
    "df = pd.read_csv('..//ResalePricesSingapore.csv')\n",
    "# Convert 'month' column to datetime type\n",
    "df['month'] = pd.to_datetime(df['month'])\n",
    "\n",
    "# Define conditions\n",
    "town_condition = df['town'] == 'YISHUN'\n",
    "month_condition = (df['month'] >= '2017-03') & (df['month'] < '2017-06')\n",
    "\n",
    "# Apply conditions\n",
    "result = df[town_condition & month_condition]\n",
    "\n",
    "print(\"Result for U2120937B:\")\n",
    "statistics_results = calculate_statistics(result)"
   ]
  }
 ],
 "metadata": {
  "kernelspec": {
   "display_name": "bigdataenv",
   "language": "python",
   "name": "python3"
  },
  "language_info": {
   "codemirror_mode": {
    "name": "ipython",
    "version": 3
   },
   "file_extension": ".py",
   "mimetype": "text/x-python",
   "name": "python",
   "nbconvert_exporter": "python",
   "pygments_lexer": "ipython3",
   "version": "3.10.7"
  }
 },
 "nbformat": 4,
 "nbformat_minor": 2
}
